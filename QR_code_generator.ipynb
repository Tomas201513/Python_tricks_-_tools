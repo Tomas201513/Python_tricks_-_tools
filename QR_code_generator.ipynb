{
  "cells": [
    {
      "cell_type": "markdown",
      "metadata": {
        "id": "JMefQFwpx1Oa"
      },
      "source": [
        "### QR_Code generated for my portfolio (try it with your input links)"
      ]
    },
    {
      "cell_type": "code",
      "execution_count": null,
      "metadata": {
        "id": "6Yl5rPfT1Vz_"
      },
      "outputs": [],
      "source": [
        "!pip install Pillow\n",
        "!pip install pypng\n",
        "!pip install pyqrcode"
      ]
    },
    {
      "cell_type": "code",
      "execution_count": 4,
      "metadata": {
        "colab": {
          "base_uri": "https://localhost:8080/",
          "height": 220
        },
        "id": "eCXMBxSJ0JJw",
        "outputId": "2eb6393e-86fe-499b-9ef8-6b2f5722e0ae"
      },
      "outputs": [
        {
          "name": "stdout",
          "output_type": "stream",
          "text": [
            "Tomas201513.github.io\n"
          ]
        },
        {
          "data": {
            "image/png": "[encoded data removed]",
            "text/plain": [
              "<PIL.PngImagePlugin.PngImageFile image mode=1 size=185x185 at 0x7F2C15BB6F10>"
            ]
          },
          "execution_count": 4,
          "metadata": {},
          "output_type": "execute_result"
        }
      ],
      "source": [
        "from PIL import Image\n",
        "import pyqrcode\n",
        "import png\n",
        "link=input()\n",
        "x=pyqrcode.create(link)\n",
        "x.png(\"tom.ping\",scale=5)\n",
        "Image.open(\"tom.ping\")"
      ]
    }
  ],
  "metadata": {
    "colab": {
      "collapsed_sections": [],
      "provenance": []
    },
    "kernelspec": {
      "display_name": "Python 3",
      "name": "python3"
    },
    "language_info": {
      "name": "python"
    }
  },
  "nbformat": 4,
  "nbformat_minor": 0
}
