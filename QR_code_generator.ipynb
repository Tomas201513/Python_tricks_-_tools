{
  "nbformat": 4,
  "nbformat_minor": 0,
  "metadata": {
    "colab": {
      "provenance": [],
      "collapsed_sections": []
    },
    "kernelspec": {
      "name": "python3",
      "display_name": "Python 3"
    },
    "language_info": {
      "name": "python"
    }
  },
  "cells": [
    {
      "cell_type": "markdown",
      "source": [
        "### QR_Code generated for my portfolio (try it with your links)"
      ],
      "metadata": {
        "id": "JMefQFwpx1Oa"
      }
    },
    {
      "cell_type": "code",
      "source": [
        "!pip install Pillow\n",
        "!pip install pypng\n",
        "!pip install pyqrcode"
      ],
      "metadata": {
        "id": "6Yl5rPfT1Vz_"
      },
      "execution_count": null,
      "outputs": []
    },
    {
      "cell_type": "code",
      "execution_count": 4,
      "metadata": {
        "colab": {
          "base_uri": "https://localhost:8080/",
          "height": 220
        },
        "id": "eCXMBxSJ0JJw",
        "outputId": "2eb6393e-86fe-499b-9ef8-6b2f5722e0ae"
      },
      "outputs": [
        {
          "name": "stdout",
          "output_type": "stream",
          "text": [
            "Tomas201513.github.io\n"
          ]
        },
        {
          "output_type": "execute_result",
          "data": {
            "text/plain": [
              "<PIL.PngImagePlugin.PngImageFile image mode=1 size=185x185 at 0x7F2C15BB6F10>"
            ],
            "image/png": "[encoded data removed]"
          },
          "metadata": {},
          "execution_count": 4
        }
      ],
      "source": [
        "from PIL import Image\n",
        "import pyqrcode\n",
        "import png\n",
        "link=input()\n",
        "x=pyqrcode.create(link)\n",
        "x.png(\"tom.ping\",scale=5)\n",
        "Image.open(\"tom.ping\")"
      ]
    }
  ]
}